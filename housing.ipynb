{
 "cells": [
  {
   "cell_type": "code",
   "execution_count": null,
   "id": "2e8a4cf0-da7d-4c1d-8965-128884321df0",
   "metadata": {},
   "outputs": [],
   "source": [
    "import numpy as np\n",
    "import pandas as pd\n"
   ]
  },
  {
   "cell_type": "code",
   "execution_count": null,
   "id": "6b269d9e-b1ec-4153-b150-7fe1f0a72daa",
   "metadata": {},
   "outputs": [],
   "source": [
    "housingData = pd.read_csv('housing.csv')"
   ]
  },
  {
   "cell_type": "code",
   "execution_count": null,
   "id": "684cb60f-38ff-42fe-85b7-02103d065add",
   "metadata": {},
   "outputs": [],
   "source": [
    "housingData.head()"
   ]
  },
  {
   "cell_type": "code",
   "execution_count": null,
   "id": "89c7f1a9-a1f9-44e0-b4bd-19deabbf064f",
   "metadata": {},
   "outputs": [],
   "source": [
    "x = housingData.iloc[:, :-1].values\n",
    "y = housingData.iloc[:, [-1]].values"
   ]
  },
  {
   "cell_type": "code",
   "execution_count": null,
   "id": "4d1eeeee-10d2-42a4-bdf1-99deef30c165",
   "metadata": {},
   "outputs": [],
   "source": [
    "x"
   ]
  },
  {
   "cell_type": "code",
   "execution_count": null,
   "id": "1bf73977-3401-44e8-87e0-0971abaf4c65",
   "metadata": {},
   "outputs": [],
   "source": [
    "y"
   ]
  },
  {
   "cell_type": "code",
   "execution_count": null,
   "id": "716a5913-f423-4d6f-b0ff-a801de8d9589",
   "metadata": {},
   "outputs": [],
   "source": [
    "from sklearn.impute import SimpleImputer\n",
    "missingValueImputer = SimpleImputer()\n",
    "x[:, :-1] = missingValueImputer.fit_transform(x[:, :-1])\n",
    "y = missingValueImputer.fit_transform(y)\n"
   ]
  },
  {
   "cell_type": "code",
   "execution_count": null,
   "id": "cceda41e-f206-4d3f-949f-d79777e4a023",
   "metadata": {},
   "outputs": [],
   "source": [
    "from sklearn.preprocessing import LabelEncoder\n",
    "x_labelencoder = LabelEncoder()\n",
    "x[:, -1] = x_labelencoder.fit_transform(x[:, -1])"
   ]
  },
  {
   "cell_type": "code",
   "execution_count": null,
   "id": "6480920b-1e2b-487c-8cd3-d68f00d53613",
   "metadata": {},
   "outputs": [],
   "source": [
    "from sklearn.model_selection import train_test_split\n",
    "X_train, X_test, y_train, y_test = train_test_split(x, y, \n",
    "                                                    test_size = 0.2, \n",
    "                                                    random_state = 0)"
   ]
  },
  {
   "cell_type": "code",
   "execution_count": null,
   "id": "63c37b25-ee75-4498-b578-2925a0517954",
   "metadata": {},
   "outputs": [],
   "source": [
    "from sklearn.preprocessing import StandardScaler\n",
    "scaler = StandardScaler()\n",
    "X_train = scaler.fit_transform(X_train)\n",
    "X_test = scaler.transform(X_test)\n",
    "y_train = scaler.fit_transform(y_train)\n",
    "y_test = scaler.transform(y_test)\n"
   ]
  },
  {
   "cell_type": "code",
   "execution_count": null,
   "id": "1773a899-a53d-424a-8422-e5122830cd04",
   "metadata": {},
   "outputs": [],
   "source": [
    "from sklearn.neighbors import KNeighborsRegressor\n",
    "from sklearn.metrics import mean_squared_error"
   ]
  },
  {
   "cell_type": "code",
   "execution_count": null,
   "id": "6d3f204f-d5db-4380-a072-9233f47eb426",
   "metadata": {},
   "outputs": [],
   "source": [
    "knn_regressor = KNeighborsRegressor(n_neighbors=5)"
   ]
  },
  {
   "cell_type": "code",
   "execution_count": null,
   "id": "a063fcd5-d307-4a44-b28c-6a391e721812",
   "metadata": {},
   "outputs": [],
   "source": [
    "knn_regressor.fit(X_train, y_train)"
   ]
  },
  {
   "cell_type": "code",
   "execution_count": null,
   "id": "5619256b-8cb1-40da-a0ff-2de9201e6cca",
   "metadata": {},
   "outputs": [],
   "source": [
    "predictions = knn_regressor.predict(X_test)"
   ]
  },
  {
   "cell_type": "code",
   "execution_count": null,
   "id": "8aa972ad-d7d5-4818-8eb6-f4a231bbcbe6",
   "metadata": {},
   "outputs": [],
   "source": [
    "mse = mean_squared_error(y_test, predictions)\n",
    "print('Mean Squared Error (MSE):', mse)"
   ]
  },
  {
   "cell_type": "code",
   "execution_count": null,
   "id": "7c7f79f8-250f-4956-8785-da1d929636c9",
   "metadata": {},
   "outputs": [],
   "source": []
  }
 ],
 "metadata": {
  "kernelspec": {
   "display_name": "Python 3 (ipykernel)",
   "language": "python",
   "name": "python3"
  },
  "language_info": {
   "codemirror_mode": {
    "name": "ipython",
    "version": 3
   },
   "file_extension": ".py",
   "mimetype": "text/x-python",
   "name": "python",
   "nbconvert_exporter": "python",
   "pygments_lexer": "ipython3",
   "version": "3.10.9"
  }
 },
 "nbformat": 4,
 "nbformat_minor": 5
}
